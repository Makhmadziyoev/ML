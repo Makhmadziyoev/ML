{
 "cells": [
  {
   "cell_type": "code",
   "execution_count": 1,
   "metadata": {},
   "outputs": [],
   "source": [
    "from PIL import Image, ImageDraw\n",
    "import numpy as np\n",
    "import pandas as pd\n",
    "from sklearn import preprocessing"
   ]
  },
  {
   "cell_type": "code",
   "execution_count": 2,
   "metadata": {},
   "outputs": [],
   "source": [
    "\n",
    "im1 = Image.open('leather/1.png')\n",
    "im2 = Image.open('leather/2.png')\n",
    "im3 = Image.open('leather/3.png')\n",
    "im4 = Image.open('leather/4.png')\n",
    "im5 = Image.open('leather/5.png')\n",
    "im6 = Image.open('leather/6.png')\n",
    "im7 = Image.open('leather/7.png')\n",
    "im8 = Image.open('leather/8.png')\n",
    "im9 = Image.open('leather/9.png')\n",
    "im10 = Image.open('leather/10.png')\n",
    "\n",
    "pixKozhi_1 = list(im1.getdata())\n",
    "pixKozhi_2 = list(im2.getdata())\n",
    "pixKozhi_3 = list(im3.getdata())\n",
    "pixKozhi_4 = list(im4.getdata())\n",
    "pixKozhi_5 = list(im5.getdata())\n",
    "pixKozhi_6 = list(im6.getdata())\n",
    "pixKozhi_7 = list(im7.getdata())\n",
    "pixKozhi_8 = list(im8.getdata())\n",
    "pixKozhi_9 = list(im9.getdata())\n",
    "pixKozhi_10 = list(im10.getdata())\n",
    "\n",
    "pixels_ALL_Kozha = []\n",
    "pixels_ALL_Kozha.extend(pixKozhi_1)\n",
    "pixels_ALL_Kozha.extend(pixKozhi_2)\n",
    "pixels_ALL_Kozha.extend(pixKozhi_3)\n",
    "pixels_ALL_Kozha.extend(pixKozhi_4)\n",
    "pixels_ALL_Kozha.extend(pixKozhi_5)\n",
    "pixels_ALL_Kozha.extend(pixKozhi_6)\n",
    "pixels_ALL_Kozha.extend(pixKozhi_7)\n",
    "pixels_ALL_Kozha.extend(pixKozhi_8)\n",
    "pixels_ALL_Kozha.extend(pixKozhi_9)\n",
    "pixels_ALL_Kozha.extend(pixKozhi_10)\n",
    "# print(pixels_ALL_Kozha)"
   ]
  },
  {
   "cell_type": "code",
   "execution_count": 3,
   "metadata": {
    "scrolled": true
   },
   "outputs": [
    {
     "name": "stdout",
     "output_type": "stream",
     "text": [
      "          R    G    B  label\n",
      "0       192  130  113      1\n",
      "1       192  132  109      1\n",
      "2       192  132  109      1\n",
      "3       193  131  109      1\n",
      "4       193  131  109      1\n",
      "...     ...  ...  ...    ...\n",
      "139577  240  224  210      1\n",
      "139578  240  224  210      1\n",
      "139579  247  228  219      1\n",
      "139580  247  228  219      1\n",
      "139581  245  226  217      1\n",
      "\n",
      "[139582 rows x 4 columns]\n"
     ]
    }
   ],
   "source": [
    "\n",
    "np.reshape(pixels_ALL_Kozha,(len(pixels_ALL_Kozha), 4))\n",
    "df_Kozha = pd.DataFrame(data=pixels_ALL_Kozha, columns = ['R','G','B','H'])\n",
    "del df_Kozha['H']\n",
    "df_Kozha['label'] = 1\n",
    "# df_Kozha = df_Kozha.drop_duplicates()\n",
    "print(df_Kozha)\n"
   ]
  },
  {
   "cell_type": "code",
   "execution_count": 4,
   "metadata": {},
   "outputs": [],
   "source": [
    "\n",
    "im11 = Image.open('samples/1.png')\n",
    "im12 = Image.open('samples/2.png')\n",
    "im13 = Image.open('samples/3.png')\n",
    "im14 = Image.open('samples/4.png')\n",
    "im15 = Image.open('samples/5.png')\n",
    "im16 = Image.open('samples/6.png')\n",
    "im17 = Image.open('samples/7.png')\n",
    "# im18 = Image.open('samples/8.png')\n",
    "# im19 = Image.open('samples/9.png')\n",
    "# im20 = Image.open('samples/10.png')"
   ]
  },
  {
   "cell_type": "code",
   "execution_count": 5,
   "metadata": {},
   "outputs": [],
   "source": [
    "\n",
    "pixelsSample_1 = list(im11.getdata())\n",
    "pixelsSample_2 = list(im12.getdata())\n",
    "pixelsSample_3 = list(im13.getdata())\n",
    "pixelsSample_4 = list(im14.getdata())\n",
    "pixelsSample_5 = list(im15.getdata())\n",
    "pixelsSample_6 = list(im16.getdata())\n",
    "pixelsSample_7 = list(im17.getdata())\n",
    "# pixelsSample_8 = list(im18.getdata())\n",
    "# pixelsSample_9 = list(im19.getdata())\n",
    "# pixelsSample_10 = list(im20.getdata())\n",
    "\n",
    "pixels_NOT_Kozha = []\n",
    "pixels_NOT_Kozha.extend(pixelsSample_1)\n",
    "pixels_NOT_Kozha.extend(pixelsSample_2)\n",
    "pixels_NOT_Kozha.extend(pixelsSample_3)\n",
    "pixels_NOT_Kozha.extend(pixelsSample_4)\n",
    "pixels_NOT_Kozha.extend(pixelsSample_5)\n",
    "pixels_NOT_Kozha.extend(pixelsSample_6)\n",
    "pixels_NOT_Kozha.extend(pixelsSample_7)\n",
    "# pixels_NOT_Kozha.extend(pixelsSample_8)\n",
    "# pixels_NOT_Kozha.extend(pixelsSample_9)\n",
    "# pixels_NOT_Kozha.extend(pixelsSample_10)\n"
   ]
  },
  {
   "cell_type": "code",
   "execution_count": 6,
   "metadata": {},
   "outputs": [
    {
     "name": "stdout",
     "output_type": "stream",
     "text": [
      "           R   G   B  label\n",
      "0          0  36  94      0\n",
      "101        0  35  93      0\n",
      "216        0  34  92      0\n",
      "224        0  35  95      0\n",
      "226        0  36  96      0\n",
      "...      ...  ..  ..    ...\n",
      "7880004  145  37  52      0\n",
      "7880006  148   0   6      0\n",
      "7880010  143   7   9      0\n",
      "7880012  145   0   8      0\n",
      "7880076  112   2   5      0\n",
      "\n",
      "[544286 rows x 4 columns]\n"
     ]
    }
   ],
   "source": [
    "\n",
    "np.reshape(pixels_NOT_Kozha,(len(pixels_NOT_Kozha), 4))\n",
    "df_Samples = pd.DataFrame(data=pixels_NOT_Kozha, columns = ['R','G','B','H'])\n",
    "del df_Samples['H']\n",
    "df_Samples['label'] = 0\n",
    "df_Samples = df_Samples.drop_duplicates()\n",
    "print(df_Samples)\n"
   ]
  },
  {
   "cell_type": "code",
   "execution_count": 7,
   "metadata": {},
   "outputs": [
    {
     "name": "stdout",
     "output_type": "stream",
     "text": [
      "           R    G    B  label\n",
      "0        192  130  113      1\n",
      "1        192  132  109      1\n",
      "2        192  132  109      1\n",
      "3        193  131  109      1\n",
      "4        193  131  109      1\n",
      "...      ...  ...  ...    ...\n",
      "7880004  145   37   52      0\n",
      "7880006  148    0    6      0\n",
      "7880010  143    7    9      0\n",
      "7880012  145    0    8      0\n",
      "7880076  112    2    5      0\n",
      "\n",
      "[683868 rows x 4 columns]\n"
     ]
    }
   ],
   "source": [
    "df_Base = pd.concat([df_Kozha, df_Samples])\n",
    "print(df_Base)\n",
    "\n",
    "\n",
    "# columns = df_Base.columns\n",
    "# print(columns)\n",
    "# for column in columns:\n",
    "#     print(column)\n",
    "#     print(df_Base[column].value_counts(dropna=False))\n"
   ]
  },
  {
   "cell_type": "code",
   "execution_count": 8,
   "metadata": {},
   "outputs": [
    {
     "name": "stdout",
     "output_type": "stream",
     "text": [
      "           R    G    B\n",
      "61099    149   81   62\n",
      "48619    210  245  239\n",
      "41654    252  204  190\n",
      "7570559    0  171  140\n",
      "6367602  185   79  205\n",
      "...      ...  ...  ...\n",
      "4805476  119  118   64\n",
      "133711   245  246  250\n",
      "117952   252  217  216\n",
      "5605741  187  171  155\n",
      "4578215   82   57   93\n",
      "\n",
      "[512901 rows x 3 columns]            R    G    B\n",
      "6630987  229  109   23\n",
      "6655730   88   84   98\n",
      "6691473  215   79   41\n",
      "87142    247  203  194\n",
      "4811587   76   76   48\n",
      "...      ...  ...  ...\n",
      "91922    255  249  240\n",
      "676459    10   73  129\n",
      "6567149  237  130  122\n",
      "6021184  240   86  216\n",
      "477705   210  231  255\n",
      "\n",
      "[170967 rows x 3 columns]\n"
     ]
    }
   ],
   "source": [
    "\n",
    "from sklearn.model_selection import train_test_split\n",
    "points_train_RGB, points_test_RGB, labels_train_RGB, labels_test_RGB = train_test_split(df_Base.iloc[:, :-1], df_Base['label'], test_size=0.25, random_state=0)\n",
    "print(points_train_RGB, points_test_RGB)"
   ]
  },
  {
   "cell_type": "code",
   "execution_count": 9,
   "metadata": {},
   "outputs": [
    {
     "name": "stdout",
     "output_type": "stream",
     "text": [
      "0.8180818520533202\n"
     ]
    }
   ],
   "source": [
    "# классификатор Байеса\n",
    "from sklearn.naive_bayes import GaussianNB\n",
    "from sklearn.model_selection import cross_val_score\n",
    "\n",
    "gnb_RGB = GaussianNB()\n",
    "gnb_RGB.fit(points_train_RGB, labels_train_RGB)\n",
    "prediction_RGB = gnb_RGB.predict(points_test_RGB)\n",
    "# print(points_test.assign(predict=prediction))\n",
    "print(format(gnb_RGB.score(points_test_RGB, labels_test_RGB)))\n",
    "# print(labels_train_RGB)"
   ]
  },
  {
   "cell_type": "code",
   "execution_count": 10,
   "metadata": {},
   "outputs": [
    {
     "name": "stdout",
     "output_type": "stream",
     "text": [
      "[0.59524471 0.81774314 0.97945516 0.69636042 0.81449691 0.73840057\n",
      " 0.69595098 0.84103704 0.90264089 0.91561138] SCORES RGB\n",
      "0.7996941205964201 SCORES MEAN RGB\n",
      "0.11207138759838993 SCORES STD RGB\n"
     ]
    }
   ],
   "source": [
    "\n",
    "scores = cross_val_score(gnb_RGB, df_Base[df_Base.columns[:3]], df_Base['label'], cv=10)\n",
    "\n",
    "print(scores, \"SCORES RGB\")\n",
    "print(scores.mean(), \"SCORES MEAN RGB\")\n",
    "print(scores.std(), \"SCORES STD RGB\")"
   ]
  },
  {
   "cell_type": "code",
   "execution_count": 11,
   "metadata": {},
   "outputs": [],
   "source": [
    "\n",
    "import colorsys\n",
    "HSV_Kozha = []\n",
    "for i in pixels_ALL_Kozha:\n",
    "    HSV_Kozha.append(colorsys.rgb_to_hsv(i[0], i[1], i[2]))\n",
    "# print(HSV_ALL_Kozha)\n",
    "\n",
    "HSV_Samples = []\n",
    "for i in pixels_NOT_Kozha:\n",
    "    HSV_Samples.append(colorsys.rgb_to_hsv(i[0], i[1], i[2]))\n",
    "# print(HSV_Samples)\n"
   ]
  },
  {
   "cell_type": "code",
   "execution_count": 12,
   "metadata": {},
   "outputs": [
    {
     "name": "stdout",
     "output_type": "stream",
     "text": [
      "Index(['H', 'S', 'V', 'label'], dtype='object')\n",
      "H\n",
      "0.166667    2784\n",
      "0.833333    2668\n",
      "0.000000    2648\n",
      "0.666667    1784\n",
      "0.583333    1496\n",
      "            ... \n",
      "0.317511       1\n",
      "0.143777       1\n",
      "0.554784       1\n",
      "0.058494       1\n",
      "0.142743       1\n",
      "Name: H, Length: 57145, dtype: int64\n",
      "S\n",
      "1.000000    61475\n",
      "0.500000     2052\n",
      "0.666667     1361\n",
      "0.333333     1356\n",
      "0.400000      930\n",
      "            ...  \n",
      "0.016327        1\n",
      "0.968379        1\n",
      "0.017621        1\n",
      "0.017021        1\n",
      "0.020725        1\n",
      "Name: S, Length: 19686, dtype: int64\n",
      "V\n",
      "255    23369\n",
      "179     3782\n",
      "239     3729\n",
      "198     3692\n",
      "211     3683\n",
      "       ...  \n",
      "4         44\n",
      "3         33\n",
      "2         19\n",
      "1          7\n",
      "0          1\n",
      "Name: V, Length: 256, dtype: int64\n",
      "label\n",
      "0    544286\n",
      "1     16012\n",
      "Name: label, dtype: int64\n"
     ]
    }
   ],
   "source": [
    "df_HSV_Kozha = pd.DataFrame(data=HSV_Kozha, columns=['H', 'S', 'V'])\n",
    "df_HSV_Kozha['label'] = 1\n",
    "df_HSV_Kozha = df_HSV_Kozha.drop_duplicates()\n",
    "\n",
    "df_HSV_Samples = pd.DataFrame(data=HSV_Samples, columns=['H', 'S', 'V'])\n",
    "df_HSV_Samples['label'] = 0\n",
    "df_HSV_Samples = df_HSV_Samples.drop_duplicates()\n",
    "df_BaseHSV = pd.concat([df_HSV_Kozha, df_HSV_Samples])\n",
    "df_Samples = df_Samples.drop_duplicates()\n",
    "# print(df_BaseHSV)\n",
    "columns = df_BaseHSV.columns\n",
    "print(columns)\n",
    "for column in columns:\n",
    "    print(column)\n",
    "    print(df_BaseHSV[column].value_counts(dropna=False))\n"
   ]
  },
  {
   "cell_type": "code",
   "execution_count": 13,
   "metadata": {},
   "outputs": [
    {
     "name": "stdout",
     "output_type": "stream",
     "text": [
      "0.9804461895413171\n"
     ]
    }
   ],
   "source": [
    "\n",
    "points_train_HSV, points_test_HSV, labels_train_HSV, labels_test_HSV = train_test_split(df_BaseHSV.iloc[:, :-1], df_BaseHSV['label'], test_size=0.25, random_state=0)\n",
    "# print(points_train_HSV, points_test_HSV)\n",
    "gnb_HSV = GaussianNB()\n",
    "gnb_HSV.fit(points_train_HSV, labels_train_HSV)\n",
    "prediction_HSV = gnb_HSV.predict(points_test_HSV)\n",
    "# print(points_test.assign(predict=prediction))\n",
    "print(format(gnb_HSV.score(points_test_HSV, labels_test_HSV)))\n",
    "# print(labels_train_HSV)"
   ]
  },
  {
   "cell_type": "code",
   "execution_count": 14,
   "metadata": {},
   "outputs": [
    {
     "name": "stdout",
     "output_type": "stream",
     "text": [
      "[0.98299125 0.98454399 0.98320543 0.93985365 0.97570944 0.98538283\n",
      " 0.98554346 0.97390684 0.98231273 0.98359778] SCORES HSV\n",
      "0.97770474015797 SCORES MEAN HSV\n",
      "0.013162258876160095 SCORES STD HSV\n"
     ]
    }
   ],
   "source": [
    "\n",
    "scores_HSV = cross_val_score(gnb_HSV, df_BaseHSV[df_BaseHSV.columns[:3]], df_BaseHSV['label'], cv=10)\n",
    "\n",
    "print(scores_HSV, \"SCORES HSV\")\n",
    "print(scores_HSV.mean(), \"SCORES MEAN HSV\")\n",
    "print(scores_HSV.std(), \"SCORES STD HSV\")"
   ]
  },
  {
   "cell_type": "code",
   "execution_count": 15,
   "metadata": {},
   "outputs": [
    {
     "name": "stdout",
     "output_type": "stream",
     "text": [
      "1000\n",
      "1374\n"
     ]
    }
   ],
   "source": [
    "\n",
    "imgTEST = Image.open('test.png')\n",
    "width = imgTEST.size[0] \n",
    "print(width)\n",
    "height = imgTEST.size[1] \n",
    "print(height)\n",
    "pixelsTEST = list(imgTEST.getdata())"
   ]
  },
  {
   "cell_type": "code",
   "execution_count": 16,
   "metadata": {},
   "outputs": [],
   "source": [
    "\n",
    "RGB_TEST = []\n",
    "for i in pixelsTEST:\n",
    "    RGB_TEST.append((i[0], i[1], i[2]))\n",
    "\n",
    "import matplotlib.pyplot as plt\n",
    "import matplotlib.image as mpimg\n",
    "array = np.array(RGB_TEST).reshape(height, width, 3)\n",
    "# plt.imshow(array.astype(np.uint8))"
   ]
  },
  {
   "cell_type": "code",
   "execution_count": 17,
   "metadata": {},
   "outputs": [
    {
     "name": "stdout",
     "output_type": "stream",
     "text": [
      "Index(['R', 'G', 'B', 'label'], dtype='object')\n",
      "R\n",
      "45     439411\n",
      "255     70055\n",
      "0       39428\n",
      "1       19901\n",
      "6       14937\n",
      "        ...  \n",
      "108       630\n",
      "106       629\n",
      "113       626\n",
      "104       619\n",
      "109       613\n",
      "Name: R, Length: 256, dtype: int64\n",
      "G\n",
      "45     439958\n",
      "0       36780\n",
      "1       18894\n",
      "6       17875\n",
      "3       14851\n",
      "        ...  \n",
      "178       621\n",
      "238       616\n",
      "37         27\n",
      "58          7\n",
      "21          1\n",
      "Name: G, Length: 248, dtype: int64\n",
      "B\n",
      "45     438277\n",
      "0       56649\n",
      "1       20572\n",
      "5       17715\n",
      "2       16256\n",
      "        ...  \n",
      "239       604\n",
      "244       602\n",
      "240       572\n",
      "235       555\n",
      "230       553\n",
      "Name: B, Length: 256, dtype: int64\n",
      "label\n",
      "0    1184937\n",
      "1     189063\n",
      "Name: label, dtype: int64\n"
     ]
    }
   ],
   "source": [
    "\n",
    "points_new_RGB = pd.DataFrame(data=RGB_TEST, columns=['R', 'G', 'B'])\n",
    "predict_TEST_RGB = gnb_RGB.predict(points_new_RGB)\n",
    "points_new_RGB = points_new_RGB.assign(label=predict_TEST_RGB)\n",
    "df_TEST_NEW_RGB = pd.DataFrame(data=points_new_RGB)\n",
    "# print(points_new_RGB[column].value_counts())\n",
    "\n",
    "\n",
    "columns = df_TEST_NEW_RGB.columns\n",
    "print(columns)\n",
    "for column in columns:\n",
    "    print(column)\n",
    "    print(df_TEST_NEW_RGB[column].value_counts(dropna=False))"
   ]
  },
  {
   "cell_type": "code",
   "execution_count": null,
   "metadata": {},
   "outputs": [],
   "source": []
  },
  {
   "cell_type": "code",
   "execution_count": 18,
   "metadata": {},
   "outputs": [],
   "source": [
    "RGB = []\n",
    "for it, i in enumerate(RGB_TEST):\n",
    "    i = list(i)\n",
    "    i.append(predict_TEST_RGB[it])\n",
    "    RGB.append(i)\n",
    "RGB_2 = []\n",
    "for it, i in enumerate(RGB):\n",
    "    if (predict_TEST_RGB[it]==1):\n",
    "        i[0] = 255\n",
    "        i[1] = 0\n",
    "        i[2] = 0\n",
    "    RGB_2.append((i[0], i[1], i[2]))"
   ]
  },
  {
   "cell_type": "code",
   "execution_count": 19,
   "metadata": {},
   "outputs": [
    {
     "data": {
      "text/plain": [
       "<matplotlib.image.AxesImage at 0x1bdbc20a190>"
      ]
     },
     "execution_count": 19,
     "metadata": {},
     "output_type": "execute_result"
    },
    {
     "data": {
      "image/png": "[encoded data removed]",
      "text/plain": [
       "<Figure size 432x288 with 1 Axes>"
      ]
     },
     "metadata": {
      "needs_background": "light"
     },
     "output_type": "display_data"
    }
   ],
   "source": [
    "array = np.array(RGB_2).reshape(height, width, 3)\n",
    "plt.imshow(array.astype(np.uint8))"
   ]
  },
  {
   "cell_type": "code",
   "execution_count": 20,
   "metadata": {},
   "outputs": [],
   "source": [
    "\n",
    "HSV_TEST = []\n",
    "for i in pixelsTEST:\n",
    "        HSV_TEST.append(colorsys.rgb_to_hsv(i[0], i[1], i[2]))"
   ]
  },
  {
   "cell_type": "code",
   "execution_count": 21,
   "metadata": {},
   "outputs": [],
   "source": [
    "# np.reshape(HSV_TEST,(len(HSV_TEST), 4))\n",
    "points_new = pd.DataFrame(data=HSV_TEST, columns=['H', 'S', 'V'])\n",
    "# del points_new['Z']\n",
    "predidict_TEST = gnb_HSV.predict(points_new)\n",
    "points_new = points_new.assign(label=predidict_TEST)\n",
    "df_TEST_NEW = pd.DataFrame(data=points_new)"
   ]
  },
  {
   "cell_type": "code",
   "execution_count": 22,
   "metadata": {},
   "outputs": [
    {
     "name": "stdout",
     "output_type": "stream",
     "text": [
      "Index(['H', 'S', 'V', 'label'], dtype='object')\n",
      "H\n",
      "0.000000    571150\n",
      "0.166667    191734\n",
      "0.222222     40478\n",
      "0.666667     30436\n",
      "0.194444     27923\n",
      "             ...  \n",
      "0.016493         1\n",
      "0.994302         1\n",
      "0.040441         1\n",
      "0.021583         1\n",
      "0.995671         1\n",
      "Name: H, Length: 3228, dtype: int64\n",
      "S\n",
      "0.000000    567385\n",
      "0.333333     25782\n",
      "1.000000     20087\n",
      "0.500000     17703\n",
      "0.100000     13170\n",
      "             ...  \n",
      "0.192708         1\n",
      "0.075397         1\n",
      "0.171296         1\n",
      "0.197581         1\n",
      "0.684524         1\n",
      "Name: S, Length: 13313, dtype: int64\n",
      "V\n",
      "45     438405\n",
      "255     72080\n",
      "0       36606\n",
      "1       18708\n",
      "6       17201\n",
      "        ...  \n",
      "113       648\n",
      "109       648\n",
      "106       642\n",
      "104       641\n",
      "8         425\n",
      "Name: V, Length: 256, dtype: int64\n",
      "label\n",
      "0    1252675\n",
      "1     121325\n",
      "Name: label, dtype: int64\n"
     ]
    }
   ],
   "source": [
    "columns = df_TEST_NEW.columns\n",
    "print(columns)\n",
    "for column in columns:\n",
    "    print(column)\n",
    "    print(df_TEST_NEW[column].value_counts(dropna=False))"
   ]
  },
  {
   "cell_type": "code",
   "execution_count": 23,
   "metadata": {},
   "outputs": [],
   "source": [
    "HSV_2 =[]\n",
    "for it, i in enumerate(HSV_TEST):\n",
    "    i = list(i)\n",
    "    i.append(predidict_TEST[it])\n",
    "    HSV_2.append(i)\n",
    "RGB_3 = []\n",
    "for it, i in enumerate(HSV_2):\n",
    "    if (predidict_TEST[it]==1):\n",
    "        i[0] = 0\n",
    "        i[1] = 1\n",
    "        i[2] = 100\n",
    "    RGB_3.append(colorsys.hsv_to_rgb(i[0], i[1], i[2]))"
   ]
  },
  {
   "cell_type": "code",
   "execution_count": 24,
   "metadata": {},
   "outputs": [
    {
     "data": {
      "text/plain": [
       "<matplotlib.image.AxesImage at 0x1bdf82b3970>"
      ]
     },
     "execution_count": 24,
     "metadata": {},
     "output_type": "execute_result"
    },
    {
     "data": {
      "image/png": "[encoded data removed]",
      "text/plain": [
       "<Figure size 432x288 with 1 Axes>"
      ]
     },
     "metadata": {
      "needs_background": "light"
     },
     "output_type": "display_data"
    }
   ],
   "source": [
    "array = np.array(RGB_3).reshape(height, width, 3)\n",
    "plt.imshow(array.astype(np.uint8))"
   ]
  },
  {
   "cell_type": "code",
   "execution_count": null,
   "metadata": {},
   "outputs": [],
   "source": []
  },
  {
   "cell_type": "code",
   "execution_count": null,
   "metadata": {},
   "outputs": [],
   "source": []
  }
 ],
 "metadata": {
  "kernelspec": {
   "display_name": "Python 3",
   "language": "python",
   "name": "python3"
  },
  "language_info": {
   "codemirror_mode": {
    "name": "ipython",
    "version": 3
   },
   "file_extension": ".py",
   "mimetype": "text/x-python",
   "name": "python",
   "nbconvert_exporter": "python",
   "pygments_lexer": "ipython3",
   "version": "3.8.7"
  }
 },
 "nbformat": 4,
 "nbformat_minor": 4
}
