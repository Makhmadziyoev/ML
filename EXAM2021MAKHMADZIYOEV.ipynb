{
 "cells": [
  {
   "cell_type": "code",
   "execution_count": 1,
   "id": "talented-billy",
   "metadata": {},
   "outputs": [],
   "source": [
    "#ЭКЗАМЕНАЦИОННАЯ РАБОТА  2021 МАХМАДЗИЁЕВ АЛИ\n",
    "import pandas as pd\n",
    "import numpy as np\n",
    "import matplotlib.pyplot as plt\n",
    "df0 = pd.read_csv('payment_fraud.csv')"
   ]
  },
  {
   "cell_type": "code",
   "execution_count": 2,
   "id": "satisfied-factor",
   "metadata": {},
   "outputs": [],
   "source": [
    "from sklearn.preprocessing import LabelEncoder"
   ]
  },
  {
   "cell_type": "code",
   "execution_count": 3,
   "id": "known-individual",
   "metadata": {},
   "outputs": [],
   "source": [
    "le = LabelEncoder()"
   ]
  },
  {
   "cell_type": "code",
   "execution_count": 4,
   "id": "institutional-dylan",
   "metadata": {},
   "outputs": [
    {
     "data": {
      "text/plain": [
       "LabelEncoder()"
      ]
     },
     "execution_count": 4,
     "metadata": {},
     "output_type": "execute_result"
    }
   ],
   "source": [
    "le.fit(df0.paymentMethod)"
   ]
  },
  {
   "cell_type": "code",
   "execution_count": 5,
   "id": "distinct-cotton",
   "metadata": {},
   "outputs": [],
   "source": [
    "# df0['paymentMethod'] = le.transform(df0.paymentMethod)"
   ]
  },
  {
   "cell_type": "code",
   "execution_count": 6,
   "id": "reliable-campaign",
   "metadata": {},
   "outputs": [],
   "source": [
    "df0 = pd.get_dummies(df0, columns=[\"paymentMethod\"])"
   ]
  },
  {
   "cell_type": "code",
   "execution_count": 7,
   "id": "fitting-occasion",
   "metadata": {},
   "outputs": [
    {
     "data": {
      "text/html": [
       "<div>\n",
       "<style scoped>\n",
       "    .dataframe tbody tr th:only-of-type {\n",
       "        vertical-align: middle;\n",
       "    }\n",
       "\n",
       "    .dataframe tbody tr th {\n",
       "        vertical-align: top;\n",
       "    }\n",
       "\n",
       "    .dataframe thead th {\n",
       "        text-align: right;\n",
       "    }\n",
       "</style>\n",
       "<table border=\"1\" class=\"dataframe\">\n",
       "  <thead>\n",
       "    <tr style=\"text-align: right;\">\n",
       "      <th></th>\n",
       "      <th>accountAgeDays</th>\n",
       "      <th>numItems</th>\n",
       "      <th>localTime</th>\n",
       "      <th>paymentMethodAgeDays</th>\n",
       "      <th>paymentMethod_creditcard</th>\n",
       "      <th>paymentMethod_paypal</th>\n",
       "      <th>paymentMethod_storecredit</th>\n",
       "    </tr>\n",
       "  </thead>\n",
       "  <tbody>\n",
       "    <tr>\n",
       "      <th>0</th>\n",
       "      <td>29</td>\n",
       "      <td>1</td>\n",
       "      <td>4.745402</td>\n",
       "      <td>28.204861</td>\n",
       "      <td>0</td>\n",
       "      <td>1</td>\n",
       "      <td>0</td>\n",
       "    </tr>\n",
       "    <tr>\n",
       "      <th>1</th>\n",
       "      <td>725</td>\n",
       "      <td>1</td>\n",
       "      <td>4.742303</td>\n",
       "      <td>0.000000</td>\n",
       "      <td>0</td>\n",
       "      <td>0</td>\n",
       "      <td>1</td>\n",
       "    </tr>\n",
       "    <tr>\n",
       "      <th>2</th>\n",
       "      <td>845</td>\n",
       "      <td>1</td>\n",
       "      <td>4.921318</td>\n",
       "      <td>0.000000</td>\n",
       "      <td>1</td>\n",
       "      <td>0</td>\n",
       "      <td>0</td>\n",
       "    </tr>\n",
       "    <tr>\n",
       "      <th>3</th>\n",
       "      <td>503</td>\n",
       "      <td>1</td>\n",
       "      <td>4.886641</td>\n",
       "      <td>0.000000</td>\n",
       "      <td>1</td>\n",
       "      <td>0</td>\n",
       "      <td>0</td>\n",
       "    </tr>\n",
       "    <tr>\n",
       "      <th>4</th>\n",
       "      <td>2000</td>\n",
       "      <td>1</td>\n",
       "      <td>5.040929</td>\n",
       "      <td>0.000000</td>\n",
       "      <td>1</td>\n",
       "      <td>0</td>\n",
       "      <td>0</td>\n",
       "    </tr>\n",
       "    <tr>\n",
       "      <th>...</th>\n",
       "      <td>...</td>\n",
       "      <td>...</td>\n",
       "      <td>...</td>\n",
       "      <td>...</td>\n",
       "      <td>...</td>\n",
       "      <td>...</td>\n",
       "      <td>...</td>\n",
       "    </tr>\n",
       "    <tr>\n",
       "      <th>39216</th>\n",
       "      <td>986</td>\n",
       "      <td>1</td>\n",
       "      <td>4.836982</td>\n",
       "      <td>0.000000</td>\n",
       "      <td>1</td>\n",
       "      <td>0</td>\n",
       "      <td>0</td>\n",
       "    </tr>\n",
       "    <tr>\n",
       "      <th>39217</th>\n",
       "      <td>1647</td>\n",
       "      <td>1</td>\n",
       "      <td>4.876771</td>\n",
       "      <td>377.930556</td>\n",
       "      <td>1</td>\n",
       "      <td>0</td>\n",
       "      <td>0</td>\n",
       "    </tr>\n",
       "    <tr>\n",
       "      <th>39218</th>\n",
       "      <td>1591</td>\n",
       "      <td>1</td>\n",
       "      <td>4.742303</td>\n",
       "      <td>0.000000</td>\n",
       "      <td>1</td>\n",
       "      <td>0</td>\n",
       "      <td>0</td>\n",
       "    </tr>\n",
       "    <tr>\n",
       "      <th>39219</th>\n",
       "      <td>237</td>\n",
       "      <td>1</td>\n",
       "      <td>4.921318</td>\n",
       "      <td>236.082639</td>\n",
       "      <td>1</td>\n",
       "      <td>0</td>\n",
       "      <td>0</td>\n",
       "    </tr>\n",
       "    <tr>\n",
       "      <th>39220</th>\n",
       "      <td>272</td>\n",
       "      <td>1</td>\n",
       "      <td>5.040929</td>\n",
       "      <td>0.000694</td>\n",
       "      <td>0</td>\n",
       "      <td>1</td>\n",
       "      <td>0</td>\n",
       "    </tr>\n",
       "  </tbody>\n",
       "</table>\n",
       "<p>39221 rows × 7 columns</p>\n",
       "</div>"
      ],
      "text/plain": [
       "       accountAgeDays  numItems  localTime  paymentMethodAgeDays  \\\n",
       "0                  29         1   4.745402             28.204861   \n",
       "1                 725         1   4.742303              0.000000   \n",
       "2                 845         1   4.921318              0.000000   \n",
       "3                 503         1   4.886641              0.000000   \n",
       "4                2000         1   5.040929              0.000000   \n",
       "...               ...       ...        ...                   ...   \n",
       "39216             986         1   4.836982              0.000000   \n",
       "39217            1647         1   4.876771            377.930556   \n",
       "39218            1591         1   4.742303              0.000000   \n",
       "39219             237         1   4.921318            236.082639   \n",
       "39220             272         1   5.040929              0.000694   \n",
       "\n",
       "       paymentMethod_creditcard  paymentMethod_paypal  \\\n",
       "0                             0                     1   \n",
       "1                             0                     0   \n",
       "2                             1                     0   \n",
       "3                             1                     0   \n",
       "4                             1                     0   \n",
       "...                         ...                   ...   \n",
       "39216                         1                     0   \n",
       "39217                         1                     0   \n",
       "39218                         1                     0   \n",
       "39219                         1                     0   \n",
       "39220                         0                     1   \n",
       "\n",
       "       paymentMethod_storecredit  \n",
       "0                              0  \n",
       "1                              1  \n",
       "2                              0  \n",
       "3                              0  \n",
       "4                              0  \n",
       "...                          ...  \n",
       "39216                          0  \n",
       "39217                          0  \n",
       "39218                          0  \n",
       "39219                          0  \n",
       "39220                          0  \n",
       "\n",
       "[39221 rows x 7 columns]"
      ]
     },
     "execution_count": 7,
     "metadata": {},
     "output_type": "execute_result"
    }
   ],
   "source": [
    "df0"
   ]
  },
  {
   "cell_type": "code",
   "execution_count": null,
   "id": "wooden-absolute",
   "metadata": {},
   "outputs": [],
   "source": []
  },
  {
   "cell_type": "code",
   "execution_count": null,
   "id": "flying-eating",
   "metadata": {},
   "outputs": [],
   "source": []
  },
  {
   "cell_type": "code",
   "execution_count": 8,
   "id": "gross-polymer",
   "metadata": {},
   "outputs": [
    {
     "data": {
      "image/png": "[encoded data removed]",
      "text/plain": [
       "<Figure size 432x288 with 1 Axes>"
      ]
     },
     "metadata": {
      "needs_background": "light"
     },
     "output_type": "display_data"
    }
   ],
   "source": [
    "plt.figure()\n",
    "plt.grid()\n",
    "plt.scatter(df0['accountAgeDays'], df0['numItems'],  edgecolor='black',\n",
    "lw=.6, cmap='jet')\n",
    "plt.title(\"Input points [2D]\")\n",
    "plt.xlabel(\"x1\")\n",
    "plt.ylabel(\"x2\")\n",
    "plt.axis('equal')\n",
    "plt.show()"
   ]
  },
  {
   "cell_type": "code",
   "execution_count": 9,
   "id": "induced-asthma",
   "metadata": {},
   "outputs": [
    {
     "data": {
      "image/png": "[encoded data removed]",
      "text/plain": [
       "<Figure size 432x288 with 1 Axes>"
      ]
     },
     "metadata": {
      "needs_background": "light"
     },
     "output_type": "display_data"
    }
   ],
   "source": [
    "# Нормализуем данные\n",
    "from sklearn.preprocessing import StandardScaler\n",
    "ss = StandardScaler()\n",
    "df1 = df0.copy()\n",
    "df1.iloc[:, :-1] = ss.fit_transform(df1.iloc[:, :-1])\n",
    "plt.figure()\n",
    "plt.grid()\n",
    "plt.scatter(df1['accountAgeDays'], df1['numItems'],  edgecolor='black',\n",
    "cmap='jet')\n",
    "plt.title(\"Normalized input points [2D]\")\n",
    "plt.xlabel(\"x1\")\n",
    "plt.ylabel(\"x2\")\n",
    "plt.axis('equal')\n",
    "plt.show()"
   ]
  },
  {
   "cell_type": "code",
   "execution_count": 10,
   "id": "novel-morocco",
   "metadata": {},
   "outputs": [
    {
     "name": "stdout",
     "output_type": "stream",
     "text": [
      "[[-8.13495363e-03 -7.20132082e-03 -1.75126065e-03 -5.91142410e-03\n",
      "  -7.07057902e-01  7.07045313e-01]\n",
      " [ 7.02269669e-01  1.71489879e-05 -9.64051944e-02  7.05285134e-01\n",
      "  -5.90372838e-03  7.83427271e-03]\n",
      " [-1.31087214e-01  7.35839644e-01 -6.63143608e-01  3.98192980e-02\n",
      "  -2.65757849e-03  2.01913298e-03]\n",
      " [-2.60580205e-03  6.62438161e-01  7.41843346e-01  1.03889105e-01\n",
      "  -4.71156472e-03  4.71140411e-03]\n",
      " [ 6.99684367e-01  1.40227628e-01 -2.47376978e-02 -7.00113709e-01\n",
      "  -1.28655698e-03  2.27717021e-03]\n",
      " [ 1.50803031e-03 -2.33957045e-04  1.50376320e-04  4.54442267e-04\n",
      "  -7.07109152e-01 -7.07102602e-01]]\n"
     ]
    },
    {
     "data": {
      "image/png": "[encoded data removed]",
      "text/plain": [
       "<Figure size 432x288 with 1 Axes>"
      ]
     },
     "metadata": {
      "needs_background": "light"
     },
     "output_type": "display_data"
    }
   ],
   "source": [
    "from sklearn.decomposition import PCA\n",
    "pca = PCA(svd_solver='full') #n_components=2\n",
    "df2 = df1.copy()\n",
    "df2.iloc[:, :-1] = pca.fit_transform(df2.iloc[:, :-1])\n",
    "df2.columns = ['pc1', 'pc2', 'pc3', 'pc4','pc5', 'pc6', 'pc7']\n",
    "print(pca.components_) #!\n",
    "plt.figure()\n",
    "plt.grid()\n",
    "plt.scatter(df2['pc1'], df2['pc2'], edgecolor='black',\n",
    "lw=.6, cmap='jet')\n",
    "plt.title(\"Rotated projected points [2D]\")\n",
    "plt.xlabel(\"pc1\")\n",
    "plt.ylabel(\"pc2\")\n",
    "plt.axis('equal')\n",
    "plt.show()"
   ]
  },
  {
   "cell_type": "code",
   "execution_count": 11,
   "id": "changed-number",
   "metadata": {},
   "outputs": [
    {
     "data": {
      "image/png": "[encoded data removed]",
      "text/plain": [
       "<Figure size 432x288 with 1 Axes>"
      ]
     },
     "metadata": {
      "needs_background": "light"
     },
     "output_type": "display_data"
    }
   ],
   "source": [
    "df3 = df2.copy()\n",
    "df3['pc2'] = 0 #!\n",
    "df3.iloc[:, :-1] = pca.inverse_transform(df3.iloc[:, :-1])\n",
    "df3.columns = ['x1', 'x2', 'x3', 'x4', 'x5', 'x6','x7']\n",
    "plt.figure()\n",
    "plt.grid()\n",
    "plt.scatter(df3['x1'], df3['x2'], edgecolor='black',\n",
    "lw=.6, cmap='jet')\n",
    "plt.title(\"PC1 in the original feature space [2D]\")\n",
    "plt.xlabel(\"x1\")\n",
    "plt.ylabel(\"x2\")\n",
    "plt.axis('equal')\n",
    "plt.show()"
   ]
  },
  {
   "cell_type": "code",
   "execution_count": 12,
   "id": "jewish-school",
   "metadata": {},
   "outputs": [
    {
     "data": {
      "image/png": "[encoded data removed]",
      "text/plain": [
       "<Figure size 864x288 with 2 Axes>"
      ]
     },
     "metadata": {
      "needs_background": "light"
     },
     "output_type": "display_data"
    }
   ],
   "source": [
    "plt.matshow(pca.components_[:2], cmap='jet')\n",
    "plt.colorbar()\n",
    "plt.gca().xaxis.tick_bottom()\n",
    "plt.xticks(range(len(df0.columns) - 1), df0.iloc[:, :-1].columns)\n",
    "plt.yticks(range(2), df2.iloc[:, :2].columns)\n",
    "plt.title(\"Main features\")\n",
    "i, k = plt.ylim() #\n",
    "plt.ylim(i+0.5, k-0.5) #\n",
    "plt.show()"
   ]
  },
  {
   "cell_type": "code",
   "execution_count": null,
   "id": "neural-perfume",
   "metadata": {},
   "outputs": [],
   "source": []
  },
  {
   "cell_type": "code",
   "execution_count": null,
   "id": "atmospheric-visiting",
   "metadata": {},
   "outputs": [],
   "source": []
  },
  {
   "cell_type": "code",
   "execution_count": null,
   "id": "bearing-syndication",
   "metadata": {},
   "outputs": [],
   "source": []
  },
  {
   "cell_type": "code",
   "execution_count": null,
   "id": "second-convention",
   "metadata": {},
   "outputs": [],
   "source": []
  },
  {
   "cell_type": "code",
   "execution_count": null,
   "id": "challenging-warrior",
   "metadata": {},
   "outputs": [],
   "source": []
  },
  {
   "cell_type": "code",
   "execution_count": null,
   "id": "extended-perspective",
   "metadata": {},
   "outputs": [],
   "source": []
  },
  {
   "cell_type": "code",
   "execution_count": null,
   "id": "diverse-moses",
   "metadata": {},
   "outputs": [],
   "source": []
  }
 ],
 "metadata": {
  "kernelspec": {
   "display_name": "Python 3",
   "language": "python",
   "name": "python3"
  },
  "language_info": {
   "codemirror_mode": {
    "name": "ipython",
    "version": 3
   },
   "file_extension": ".py",
   "mimetype": "text/x-python",
   "name": "python",
   "nbconvert_exporter": "python",
   "pygments_lexer": "ipython3",
   "version": "3.8.7"
  }
 },
 "nbformat": 4,
 "nbformat_minor": 5
}
